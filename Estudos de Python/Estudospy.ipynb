{
 "cells": [
  {
   "cell_type": "markdown",
   "id": "d8f85f68",
   "metadata": {},
   "source": [
    "Exercicio 1"
   ]
  },
  {
   "cell_type": "code",
   "execution_count": null,
   "id": "ccb393de",
   "metadata": {},
   "outputs": [],
   "source": [
    "print('Olá, Mundo')"
   ]
  },
  {
   "cell_type": "markdown",
   "id": "40626848",
   "metadata": {},
   "source": [
    "Exercício 2"
   ]
  },
  {
   "cell_type": "code",
   "execution_count": 1,
   "id": "32fccff7",
   "metadata": {},
   "outputs": [
    {
     "name": "stdout",
     "output_type": "stream",
     "text": [
      "É um prazer te conhecer, Dannylop\n"
     ]
    }
   ],
   "source": [
    "nome = input(\"Digite seu nome: \")\n",
    "print (f'É um prazer te conhecer, {nome}')"
   ]
  },
  {
   "cell_type": "markdown",
   "id": "b90f630d",
   "metadata": {},
   "source": [
    "Exercício 3"
   ]
  },
  {
   "cell_type": "code",
   "execution_count": 2,
   "id": "290f8e36",
   "metadata": {},
   "outputs": [
    {
     "name": "stdout",
     "output_type": "stream",
     "text": [
      "a soma de 2 e 3 é: 5 \n"
     ]
    }
   ],
   "source": [
    "n1 = int(input('Escreva um número: '))\n",
    "n2 = int(input('Escreva um número: '))\n",
    "soma = n1 + n2\n",
    "print (f'a soma de {n1} e {n2} é: {soma} ')"
   ]
  }
 ],
 "metadata": {
  "kernelspec": {
   "display_name": "base",
   "language": "python",
   "name": "python3"
  },
  "language_info": {
   "codemirror_mode": {
    "name": "ipython",
    "version": 3
   },
   "file_extension": ".py",
   "mimetype": "text/x-python",
   "name": "python",
   "nbconvert_exporter": "python",
   "pygments_lexer": "ipython3",
   "version": "3.13.5"
  }
 },
 "nbformat": 4,
 "nbformat_minor": 5
}
