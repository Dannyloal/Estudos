{
 "cells": [
  {
   "cell_type": "markdown",
   "id": "d8f85f68",
   "metadata": {},
   "source": [
    "Exercicio 1"
   ]
  },
  {
   "cell_type": "code",
   "execution_count": null,
   "id": "ccb393de",
   "metadata": {},
   "outputs": [],
   "source": [
    "print('Olá, Mundo')"
   ]
  },
  {
   "cell_type": "markdown",
   "id": "40626848",
   "metadata": {},
   "source": [
    "Exercício 2"
   ]
  },
  {
   "cell_type": "code",
   "execution_count": 1,
   "id": "32fccff7",
   "metadata": {},
   "outputs": [
    {
     "name": "stdout",
     "output_type": "stream",
     "text": [
      "É um prazer te conhecer, Dannylop\n"
     ]
    }
   ],
   "source": [
    "nome = input(\"Digite seu nome: \")\n",
    "print (f'É um prazer te conhecer, {nome}')"
   ]
  },
  {
   "cell_type": "markdown",
   "id": "b90f630d",
   "metadata": {},
   "source": [
    "Exercício 3"
   ]
  },
  {
   "cell_type": "code",
   "execution_count": 2,
   "id": "290f8e36",
   "metadata": {},
   "outputs": [
    {
     "name": "stdout",
     "output_type": "stream",
     "text": [
      "a soma de 2 e 3 é: 5 \n"
     ]
    }
   ],
   "source": [
    "n1 = int(input('Escreva um número: '))\n",
    "n2 = int(input('Escreva um número: '))\n",
    "soma = n1 + n2\n",
    "print (f'a soma de {n1} e {n2} é: {soma} ')"
   ]
  },
  {
   "cell_type": "markdown",
   "id": "abdc4527",
   "metadata": {},
   "source": [
    "Exercício 4"
   ]
  },
  {
   "cell_type": "code",
   "execution_count": null,
   "id": "3482a4fc",
   "metadata": {},
   "outputs": [],
   "source": []
  },
  {
   "cell_type": "markdown",
   "id": "80529579",
   "metadata": {},
   "source": [
    "Exercício 5"
   ]
  },
  {
   "cell_type": "code",
   "execution_count": 2,
   "id": "d1187964",
   "metadata": {},
   "outputs": [
    {
     "name": "stdout",
     "output_type": "stream",
     "text": [
      "Analisando o valor 2, seu antecessor é: 1, e seu sucessor é: 3 \n"
     ]
    }
   ],
   "source": [
    "n1 = int(input('Digite um número: '))\n",
    "suce = n1 + 1\n",
    "ante = n1 - 1\n",
    "print(f'Analisando o valor {n1}, seu antecessor é: {ante}, e seu sucessor é: {suce} ')"
   ]
  },
  {
   "cell_type": "markdown",
   "id": "433bfe4e",
   "metadata": {},
   "source": [
    "Exercício 6"
   ]
  },
  {
   "cell_type": "code",
   "execution_count": 4,
   "id": "d0b3768c",
   "metadata": {},
   "outputs": [
    {
     "name": "stdout",
     "output_type": "stream",
     "text": [
      "O dobro de 9 vale 18. \n",
      "O triplo de 9 vale 27. \n",
      "A raiz quadrada de 9 é igual a 81.\n"
     ]
    }
   ],
   "source": [
    "n1 = int(input('Digite um número: '))\n",
    "dob = n1 * 2\n",
    "tri = n1 * 3\n",
    "rai = n1 ** 2\n",
    "print(f'O dobro de {n1} vale {dob}. \\nO triplo de {n1} vale {tri}. \\nA raiz quadrada de {n1} é igual a {rai}.') "
   ]
  },
  {
   "cell_type": "markdown",
   "id": "e6c5453b",
   "metadata": {},
   "source": [
    "Exercício 7"
   ]
  },
  {
   "cell_type": "code",
   "execution_count": 6,
   "id": "a3d040cc",
   "metadata": {},
   "outputs": [
    {
     "name": "stdout",
     "output_type": "stream",
     "text": [
      "A média entre 4.8 e 7.8 é 6.3\n"
     ]
    }
   ],
   "source": [
    "n1 = float(input('Primeira nota do aluno: '))\n",
    "n2 = float(input('Segunda nota do aluno: '))\n",
    "média = (n1 + n2) / 2\n",
    "print(f'A média entre {n1} e {n2} é {média}')"
   ]
  },
  {
   "cell_type": "markdown",
   "id": "2cad510a",
   "metadata": {},
   "source": [
    "Exercício 8"
   ]
  },
  {
   "cell_type": "code",
   "execution_count": 8,
   "id": "7650fe82",
   "metadata": {},
   "outputs": [
    {
     "name": "stdout",
     "output_type": "stream",
     "text": [
      "A medida em 1.0m corresponde a 100.0cm e 1000.0mm.\n"
     ]
    }
   ],
   "source": [
    "met = float(input('Digite uma distância em metros: '))\n",
    "cm = met * 100\n",
    "mm = met * 1000\n",
    "print(f'A medida em {met}m corresponde a {cm}cm e {mm}mm.')"
   ]
  },
  {
   "cell_type": "code",
   "execution_count": null,
   "id": "bc7cfad7",
   "metadata": {},
   "outputs": [],
   "source": []
  }
 ],
 "metadata": {
  "kernelspec": {
   "display_name": "base",
   "language": "python",
   "name": "python3"
  },
  "language_info": {
   "codemirror_mode": {
    "name": "ipython",
    "version": 3
   },
   "file_extension": ".py",
   "mimetype": "text/x-python",
   "name": "python",
   "nbconvert_exporter": "python",
   "pygments_lexer": "ipython3",
   "version": "3.13.5"
  }
 },
 "nbformat": 4,
 "nbformat_minor": 5
}
