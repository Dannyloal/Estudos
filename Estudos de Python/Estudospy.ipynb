{
 "cells": [
  {
   "cell_type": "markdown",
   "id": "d8f85f68",
   "metadata": {},
   "source": [
    "Exercicio 1"
   ]
  },
  {
   "cell_type": "code",
   "execution_count": null,
   "id": "ccb393de",
   "metadata": {},
   "outputs": [],
   "source": [
    "print('Olá, Mundo')"
   ]
  },
  {
   "cell_type": "markdown",
   "id": "40626848",
   "metadata": {},
   "source": [
    "Exercício 2"
   ]
  },
  {
   "cell_type": "code",
   "execution_count": 1,
   "id": "32fccff7",
   "metadata": {},
   "outputs": [
    {
     "name": "stdout",
     "output_type": "stream",
     "text": [
      "É um prazer te conhecer, Dannylop\n"
     ]
    }
   ],
   "source": [
    "nome = input(\"Digite seu nome: \")\n",
    "print (f'É um prazer te conhecer, {nome}')"
   ]
  }
 ],
 "metadata": {
  "kernelspec": {
   "display_name": "base",
   "language": "python",
   "name": "python3"
  },
  "language_info": {
   "codemirror_mode": {
    "name": "ipython",
    "version": 3
   },
   "file_extension": ".py",
   "mimetype": "text/x-python",
   "name": "python",
   "nbconvert_exporter": "python",
   "pygments_lexer": "ipython3",
   "version": "3.13.5"
  }
 },
 "nbformat": 4,
 "nbformat_minor": 5
}
